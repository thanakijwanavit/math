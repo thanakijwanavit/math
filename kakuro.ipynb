{
 "cells": [
  {
   "cell_type": "code",
   "execution_count": 6,
   "metadata": {},
   "outputs": [],
   "source": [
    "#!/usr/bin/env python3"
   ]
  },
  {
   "cell_type": "code",
   "execution_count": 7,
   "metadata": {},
   "outputs": [],
   "source": [
    "def sumarray(data):\n",
    "    total = 0\n",
    "    for k in range(0,len(data)):\n",
    "        total += data[k]\n",
    "    return total"
   ]
  },
  {
   "cell_type": "code",
   "execution_count": 8,
   "metadata": {},
   "outputs": [],
   "source": [
    "def kaku(sum,length):\n",
    "    data = []\n",
    "    bigdata = []\n",
    "    ##create array##\n",
    "    for j in range(0,length):\n",
    "        data.append(1)\n",
    "    \n",
    "    for i in range(0,len(data)):\n",
    "        bigdata.append(runNext(data,i))\n",
    "    print(bigdata)"
   ]
  },
  {
   "cell_type": "code",
   "execution_count": 9,
   "metadata": {},
   "outputs": [],
   "source": [
    "def runNext(data,digit):\n",
    "    bigdata= []\n",
    "    datafeed = data\n",
    "    for i in range(1,10):\n",
    "        datafeed[digit] = i\n",
    "        bigdata.append(datafeed[:])\n",
    "#        print(bigdata)\n",
    "    return bigdata"
   ]
  },
  {
   "cell_type": "code",
   "execution_count": 10,
   "metadata": {},
   "outputs": [],
   "source": [
    "def listfaces(dice,face,requiredscore,index=99):\n",
    "\tif (index==99):\n",
    "\t\tindex=len(dice)-1\n",
    "\tfor i in range(1,face+1):\n",
    "\t\tdice[index]=i\n",
    "\t\tdigit = index\n",
    "\t\tif(index ==0):\n",
    "\t\t\tlogging.debug(dice)\n",
    "\t\t\tlogging.debug(score(dice))\n",
    "\t\t\tcount+=1\n",
    "\t\t\tif (score(dice)==requiredscore):\n",
    "\t\t\t\tmatch+=1\n",
    "\t\telif(index > 0):\n",
    "\t\t\tmatch+=listfaces(dice,face,requiredscore,index=(index-1))['match']\n",
    "\t\t\tcount+=listfaces(dice,face,requiredscore,index=(index-1))['count']\n",
    "\treturn {'match':match,'count':count}"
   ]
  },
  {
   "cell_type": "code",
   "execution_count": 37,
   "metadata": {},
   "outputs": [
    {
     "name": "stdout",
     "output_type": "stream",
     "text": [
      "[[1, 1, 1, 1, 1]]\n",
      "[[1, 1, 1, 1, 1], [1, 1, 2, 1, 1]]\n",
      "[[1, 1, 1, 1, 1], [1, 1, 2, 1, 1], [1, 1, 3, 1, 1]]\n",
      "[[1, 1, 1, 1, 1], [1, 1, 2, 1, 1], [1, 1, 3, 1, 1], [1, 1, 4, 1, 1]]\n",
      "[[1, 1, 1, 1, 1], [1, 1, 2, 1, 1], [1, 1, 3, 1, 1], [1, 1, 4, 1, 1], [1, 1, 5, 1, 1]]\n",
      "[[1, 1, 1, 1, 1], [1, 1, 2, 1, 1], [1, 1, 3, 1, 1], [1, 1, 4, 1, 1], [1, 1, 5, 1, 1], [1, 1, 6, 1, 1]]\n",
      "[[1, 1, 1, 1, 1], [1, 1, 2, 1, 1], [1, 1, 3, 1, 1], [1, 1, 4, 1, 1], [1, 1, 5, 1, 1], [1, 1, 6, 1, 1], [1, 1, 7, 1, 1]]\n",
      "[[1, 1, 1, 1, 1], [1, 1, 2, 1, 1], [1, 1, 3, 1, 1], [1, 1, 4, 1, 1], [1, 1, 5, 1, 1], [1, 1, 6, 1, 1], [1, 1, 7, 1, 1], [1, 1, 8, 1, 1]]\n",
      "[[1, 1, 1, 1, 1], [1, 1, 2, 1, 1], [1, 1, 3, 1, 1], [1, 1, 4, 1, 1], [1, 1, 5, 1, 1], [1, 1, 6, 1, 1], [1, 1, 7, 1, 1], [1, 1, 8, 1, 1], [1, 1, 9, 1, 1]]\n"
     ]
    },
    {
     "data": {
      "text/plain": [
       "[[1, 1, 1, 1, 1],\n",
       " [1, 1, 2, 1, 1],\n",
       " [1, 1, 3, 1, 1],\n",
       " [1, 1, 4, 1, 1],\n",
       " [1, 1, 5, 1, 1],\n",
       " [1, 1, 6, 1, 1],\n",
       " [1, 1, 7, 1, 1],\n",
       " [1, 1, 8, 1, 1],\n",
       " [1, 1, 9, 1, 1]]"
      ]
     },
     "execution_count": 37,
     "metadata": {},
     "output_type": "execute_result"
    }
   ],
   "source": [
    "runNext([1, 1, 1, 1, 1],2)"
   ]
  },
  {
   "cell_type": "code",
   "execution_count": 13,
   "metadata": {},
   "outputs": [
    {
     "name": "stdout",
     "output_type": "stream",
     "text": [
      "[[[1, 1], [2, 1], [3, 1], [4, 1], [5, 1], [6, 1], [7, 1], [8, 1], [9, 1]], [[9, 1], [9, 2], [9, 3], [9, 4], [9, 5], [9, 6], [9, 7], [9, 8], [9, 9]]]\n"
     ]
    }
   ],
   "source": [
    "kaku(3,2)"
   ]
  },
  {
   "cell_type": "code",
   "execution_count": 14,
   "metadata": {},
   "outputs": [
    {
     "name": "stdout",
     "output_type": "stream",
     "text": [
      "[[[1, 1], [2, 1], [3, 1], [4, 1], [5, 1], [6, 1], [7, 1], [8, 1], [9, 1]], [[9, 1], [9, 2], [9, 3], [9, 4], [9, 5], [9, 6], [9, 7], [9, 8], [9, 9]]]\n",
      "None\n"
     ]
    }
   ],
   "source": [
    "print(kaku(3,2))"
   ]
  },
  {
   "cell_type": "code",
   "execution_count": 18,
   "metadata": {},
   "outputs": [
    {
     "name": "stdout",
     "output_type": "stream",
     "text": [
      "hello hello world\n"
     ]
    }
   ],
   "source": [
    "print('hello %s %s' % ('hello', 'world'))"
   ]
  },
  {
   "cell_type": "code",
   "execution_count": null,
   "metadata": {},
   "outputs": [],
   "source": []
  }
 ],
 "metadata": {
  "kernelspec": {
   "display_name": "Python 3",
   "language": "python",
   "name": "python3"
  },
  "language_info": {
   "codemirror_mode": {
    "name": "ipython",
    "version": 3
   },
   "file_extension": ".py",
   "mimetype": "text/x-python",
   "name": "python",
   "nbconvert_exporter": "python",
   "pygments_lexer": "ipython3",
   "version": "3.6.1"
  }
 },
 "nbformat": 4,
 "nbformat_minor": 2
}
