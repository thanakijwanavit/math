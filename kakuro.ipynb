{
 "cells": [
  {
   "cell_type": "code",
   "execution_count": 1,
   "metadata": {},
   "outputs": [],
   "source": [
    "#!/usr/bin/env python3\n",
    "import logging"
   ]
  },
  {
   "cell_type": "code",
   "execution_count": 2,
   "metadata": {},
   "outputs": [],
   "source": [
    "def sumarray(data):\n",
    "    return sum(data)"
   ]
  },
  {
   "cell_type": "code",
   "execution_count": 3,
   "metadata": {},
   "outputs": [],
   "source": [
    "def gendice(length):\n",
    "    data = [1]*length\n",
    "    return data"
   ]
  },
  {
   "cell_type": "code",
   "execution_count": 4,
   "metadata": {},
   "outputs": [],
   "source": [
    "def isduplicate(A):\n",
    "    d = {}\n",
    "    for index, item in enumerate(A):\n",
    "        if item in d:\n",
    "            return 1\n",
    "        else:\n",
    "            d[item] = True\n",
    "    return 0"
   ]
  },
  {
   "cell_type": "code",
   "execution_count": 5,
   "metadata": {},
   "outputs": [],
   "source": [
    "def checkrepeat(A):\n",
    "    temp = []\n",
    "    output = []\n",
    "    for index, item in enumerate(A):\n",
    "        if item in temp:\n",
    "            output.append(item)\n",
    "        else:\n",
    "            temp.append(item)\n",
    "    return output"
   ]
  },
  {
   "cell_type": "code",
   "execution_count": 6,
   "metadata": {},
   "outputs": [],
   "source": [
    "def listnumbers(list1,possible):\n",
    "    output=[]\n",
    "    flat_list = [item for sublist in list1 for item in sublist]\n",
    "    for i in possible:\n",
    "        if i in flat_list:\n",
    "            output.append(i)\n",
    "    return output\n",
    "            "
   ]
  },
  {
   "cell_type": "code",
   "execution_count": 7,
   "metadata": {},
   "outputs": [],
   "source": [
    "def listfaces(dice,requiredscore,index=99,match=0,list=[],bigdata=[],possible=[1,2,3,4,5,6,7,8,9]):\n",
    "\tlistfeed=[]\n",
    "\tif (index==99):\n",
    "\t\tindex=len(dice)-1\n",
    "\tfor i in possible:\n",
    "\t\tdice[index]=i\n",
    "\t\tif(index ==0):\n",
    "\t\t\tif (sumarray(dice)==requiredscore):\n",
    "\t\t\t\tif not isduplicate(dice):\n",
    "\t\t\t\t\tlistfeed.append(dice[:])\n",
    "\t\telif(index > 0):\n",
    "\t\t\tif(listfaces(dice,requiredscore,index=(index-1),bigdata=bigdata)['listfeed'] and not isduplicate(dice)):\n",
    "\t\t\t\tbigdata.append(listfaces(dice,requiredscore,index=(index-1),bigdata=bigdata)['listfeed'][0])\n",
    "\treturn {'dice':dice,'bigdata':bigdata,'listfeed':listfeed,'possibilities':len(bigdata)}"
   ]
  },
  {
   "cell_type": "code",
   "execution_count": 8,
   "metadata": {},
   "outputs": [],
   "source": [
    "def listpossible(toplength,topsum,sidelength,sidesum,impossible=[]):\n",
    "    possible=[x for x in [1,2,3,4,5,6,7,8,9] if x not in impossible]\n",
    "    topdice= gendice(toplength)[:]\n",
    "    sidedice= gendice(sidelength)[:]\n",
    "    toppossible=listnumbers(listfaces(topdice,topsum,bigdata=[],possible = possible)['bigdata'],possible)\n",
    "    sidepossible=listnumbers(listfaces(sidedice,sidesum,bigdata=[],possible = possible)['bigdata'],possible)\n",
    "    dualpossible=checkrepeat(toppossible[:]+sidepossible[:])\n",
    "    \n",
    "    return {'toppossible':toppossible,'sidepossible':sidepossible,'dualpossible':dualpossible}"
   ]
  },
  {
   "cell_type": "code",
   "execution_count": null,
   "metadata": {},
   "outputs": [],
   "source": [
    "print(listpossible(2,8,9,45,impossible=[]))"
   ]
  },
  {
   "cell_type": "code",
   "execution_count": null,
   "metadata": {},
   "outputs": [],
   "source": [
    "\n"
   ]
  },
  {
   "cell_type": "code",
   "execution_count": null,
   "metadata": {},
   "outputs": [],
   "source": []
  },
  {
   "cell_type": "code",
   "execution_count": null,
   "metadata": {},
   "outputs": [],
   "source": []
  },
  {
   "cell_type": "code",
   "execution_count": null,
   "metadata": {},
   "outputs": [],
   "source": []
  },
  {
   "cell_type": "code",
   "execution_count": null,
   "metadata": {},
   "outputs": [],
   "source": []
  }
 ],
 "metadata": {
  "kernelspec": {
   "display_name": "Python 3",
   "language": "python",
   "name": "python3"
  },
  "language_info": {
   "codemirror_mode": {
    "name": "ipython",
    "version": 3
   },
   "file_extension": ".py",
   "mimetype": "text/x-python",
   "name": "python",
   "nbconvert_exporter": "python",
   "pygments_lexer": "ipython3",
   "version": "3.6.1"
  }
 },
 "nbformat": 4,
 "nbformat_minor": 2
}
