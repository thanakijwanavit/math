{
 "cells": [
  {
   "cell_type": "code",
   "execution_count": 6,
   "metadata": {},
   "outputs": [],
   "source": [
    "#!/usr/bin/env python3\n",
    "import logging\n",
    "import numpy as np\n",
    "from time import time"
   ]
  },
  {
   "cell_type": "code",
   "execution_count": 7,
   "metadata": {},
   "outputs": [],
   "source": [
    "def sumarray(data):\n",
    "    return sum(data)"
   ]
  },
  {
   "cell_type": "code",
   "execution_count": 8,
   "metadata": {},
   "outputs": [],
   "source": [
    "def gendice(length):\n",
    "    data = [1]*length\n",
    "    return data"
   ]
  },
  {
   "cell_type": "code",
   "execution_count": 9,
   "metadata": {},
   "outputs": [],
   "source": [
    "def isduplicate(A):\n",
    "    d = {}\n",
    "    for index, item in enumerate(A):\n",
    "        if item in d:\n",
    "            return 1\n",
    "        else:\n",
    "            d[item] = True\n",
    "    return 0"
   ]
  },
  {
   "cell_type": "code",
   "execution_count": 10,
   "metadata": {},
   "outputs": [],
   "source": [
    "def checkrepeat(A):\n",
    "    temp = []\n",
    "    output = []\n",
    "    oappend = output.append\n",
    "    tappend = temp.append\n",
    "    for index, item in enumerate(A):\n",
    "        if item in temp:\n",
    "            oappend(item)\n",
    "        else:\n",
    "            tappend(item)\n",
    "    return output"
   ]
  },
  {
   "cell_type": "code",
   "execution_count": 11,
   "metadata": {},
   "outputs": [],
   "source": [
    "def listnumbers(list1,possible):\n",
    "    output=[]\n",
    "    oappend = output.append\n",
    "    flat_list = [item for sublist in list1 for item in sublist]\n",
    "    for i in possible:\n",
    "        if i in flat_list:\n",
    "            oappend(i)\n",
    "    return output\n",
    "            "
   ]
  },
  {
   "cell_type": "code",
   "execution_count": 18,
   "metadata": {},
   "outputs": [],
   "source": [
    "def listfaces(dice,requiredscore,index=99,match=0,list=[],bigdata=[],possible=[1,2,3,4,5,6,7,8,9]):\n",
    "\tlistfeed=np.array([])\n",
    "\tif (index==99):\n",
    "\t\tindex=len(dice)-1\n",
    "\tfor i in possible:\n",
    "\t\tdice[index]=i\n",
    "\t\tif(index ==0):\n",
    "\t\t\tif (sumarray(dice)==requiredscore):\n",
    "\t\t\t\tif not isduplicate(dice):\n",
    "\t\t\t\t\tlistfeed=np.append(listfeed,dice)\n",
    "\t\telif(index > 0):\n",
    "\t\t\tif(listfaces(dice,requiredscore,index=(index-1),bigdata=bigdata)['listfeed'] and not isduplicate(dice)):\n",
    "\t\t\t\tbigdata.append(listfaces(dice,requiredscore,index=(index-1),bigdata=bigdata)['listfeed'][0])\n",
    "\treturn {'dice':dice,'bigdata':bigdata,'listfeed':listfeed,'possibilities':len(bigdata)}"
   ]
  },
  {
   "cell_type": "code",
   "execution_count": 19,
   "metadata": {},
   "outputs": [],
   "source": [
    "def listpossible(toplength,topsum,sidelength,sidesum,impossible=[]):\n",
    "    possible=[x for x in [1,2,3,4,5,6,7,8,9] if x not in impossible]\n",
    "    topdice= gendice(toplength)[:]\n",
    "    sidedice= gendice(sidelength)[:]\n",
    "    toppossible=listnumbers(listfaces(topdice,topsum,bigdata=[],possible = possible)['bigdata'],possible)\n",
    "    sidepossible=listnumbers(listfaces(sidedice,sidesum,bigdata=[],possible = possible)['bigdata'],possible)\n",
    "    dualpossible=checkrepeat(toppossible[:]+sidepossible[:])\n",
    "    \n",
    "    return {'toppossible':toppossible,'sidepossible':sidepossible,'dualpossible':dualpossible}"
   ]
  },
  {
   "cell_type": "code",
   "execution_count": 20,
   "metadata": {},
   "outputs": [
    {
     "name": "stderr",
     "output_type": "stream",
     "text": [
      "/Library/Frameworks/Python.framework/Versions/3.6/lib/python3.6/site-packages/ipykernel_launcher.py:12: DeprecationWarning: The truth value of an empty array is ambiguous. Returning False, but in future this will result in an error. Use `array.size > 0` to check that an array is not empty.\n",
      "  if sys.path[0] == '':\n"
     ]
    },
    {
     "name": "stdout",
     "output_type": "stream",
     "text": [
      "{'toppossible': [], 'sidepossible': [], 'dualpossible': []}\n",
      "the function took 3.9545600414276123 seconds to run\n"
     ]
    }
   ],
   "source": [
    "t0 = time()\n",
    "var=listpossible(7,15,6,19,impossible=[])\n",
    "t1 = time()\n",
    "print(var)\n",
    "print ('the function took %s seconds to run' % (t1-t0))"
   ]
  },
  {
   "cell_type": "code",
   "execution_count": 110,
   "metadata": {},
   "outputs": [],
   "source": [
    "def listfaces2(totaldigits,requiredscore,index=99,match=0,list=[],bigdata=[],impossible=[]):\n",
    "    fulldice =np.linspace(1,9,9,dtype='int16')\n",
    "    dice = np.setdiff1d(fulldice,impossible)\n",
    "    row = len(dice)\n",
    "    column = row**row\n",
    "    possiblematrix=np.fromfunction(matrixcreation,shape=(column,9),dtype ='int16')\n",
    "    return {'matrix':possiblematrix,'row':row,'column':column}"
   ]
  },
  {
   "cell_type": "code",
   "execution_count": 144,
   "metadata": {},
   "outputs": [],
   "source": [
    "def matrixcreation(i,j,row=9):\n",
    "    output= i % row + 1\n",
    "    ini\n",
    "    return output"
   ]
  },
  {
   "cell_type": "code",
   "execution_count": 145,
   "metadata": {},
   "outputs": [
    {
     "name": "stdout",
     "output_type": "stream",
     "text": [
      "{'matrix': array([[1, 1, 1, ..., 1, 1, 1],\n",
      "       [2, 2, 2, ..., 2, 2, 2],\n",
      "       [3, 3, 3, ..., 3, 3, 3],\n",
      "       ...,\n",
      "       [7, 7, 7, ..., 7, 7, 7],\n",
      "       [8, 8, 8, ..., 8, 8, 8],\n",
      "       [9, 9, 9, ..., 9, 9, 9]], dtype=int16), 'row': 8, 'column': 16777216}\n"
     ]
    }
   ],
   "source": [
    "print(listfaces2(3,8,impossible=[1]))"
   ]
  },
  {
   "cell_type": "code",
   "execution_count": null,
   "metadata": {},
   "outputs": [],
   "source": []
  },
  {
   "cell_type": "code",
   "execution_count": null,
   "metadata": {},
   "outputs": [],
   "source": []
  },
  {
   "cell_type": "code",
   "execution_count": null,
   "metadata": {},
   "outputs": [],
   "source": []
  }
 ],
 "metadata": {
  "kernelspec": {
   "display_name": "Python 3",
   "language": "python",
   "name": "python3"
  },
  "language_info": {
   "codemirror_mode": {
    "name": "ipython",
    "version": 3
   },
   "file_extension": ".py",
   "mimetype": "text/x-python",
   "name": "python",
   "nbconvert_exporter": "python",
   "pygments_lexer": "ipython3",
   "version": "3.6.1"
  }
 },
 "nbformat": 4,
 "nbformat_minor": 2
}
